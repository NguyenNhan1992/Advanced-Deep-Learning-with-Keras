{
  "nbformat": 4,
  "nbformat_minor": 0,
  "metadata": {
    "colab": {
      "name": "CVAE_3D Keras.ipynb",
      "version": "0.3.2",
      "provenance": [],
      "collapsed_sections": [],
      "include_colab_link": true
    },
    "kernelspec": {
      "name": "python3",
      "display_name": "Python 3"
    },
    "accelerator": "GPU"
  },
  "cells": [
    {
      "cell_type": "markdown",
      "metadata": {
        "id": "view-in-github",
        "colab_type": "text"
      },
      "source": [
        "<a href=\"https://colab.research.google.com/github/NguyenNhan1992/Advanced-Deep-Learning-with-Keras/blob/master/CVAE_3D_Keras.ipynb\" target=\"_parent\"><img src=\"https://colab.research.google.com/assets/colab-badge.svg\" alt=\"Open In Colab\"/></a>"
      ]
    },
    {
      "metadata": {
        "id": "HeoIw2gB_L0w",
        "colab_type": "code",
        "colab": {}
      },
      "cell_type": "code",
      "source": [
        "!pip install -q keras"
      ],
      "execution_count": 0,
      "outputs": []
    },
    {
      "metadata": {
        "id": "WkQS9hnR_fKF",
        "colab_type": "code",
        "colab": {
          "base_uri": "https://localhost:8080/",
          "height": 33
        },
        "outputId": "1bf667bb-2ba8-4dd0-97cd-db1306c58d1c"
      },
      "cell_type": "code",
      "source": [
        "from __future__ import absolute_import\n",
        "from __future__ import division\n",
        "from __future__ import print_function\n",
        "\n",
        "import keras\n",
        "from keras.layers import Dense, Input\n",
        "from keras.layers import Conv2D, Flatten, Lambda, Conv3D\n",
        "from keras.layers import Reshape, Conv2DTranspose, Conv3DTranspose\n",
        "from keras.models import Model\n",
        "from keras.datasets import mnist\n",
        "from keras.losses import mse, binary_crossentropy\n",
        "from keras.utils import plot_model\n",
        "from keras import backend as K\n",
        "from keras.utils import to_categorical\n",
        "\n",
        "import numpy as np\n",
        "import matplotlib.pyplot as plt\n",
        "import argparse\n",
        "import os"
      ],
      "execution_count": 2,
      "outputs": [
        {
          "output_type": "stream",
          "text": [
            "Using TensorFlow backend.\n"
          ],
          "name": "stderr"
        }
      ]
    },
    {
      "metadata": {
        "id": "xh-yTZOl_j0d",
        "colab_type": "code",
        "colab": {}
      },
      "cell_type": "code",
      "source": [
        "def sampling(args):\n",
        "    \"\"\"Implements reparameterization trick by sampling\n",
        "    from a gaussian with zero mean and std=1.\n",
        "    Arguments:\n",
        "        args (tensor): mean and log of variance of Q(z|X)\n",
        "    Returns:\n",
        "        sampled latent vector (tensor)\n",
        "    \"\"\"\n",
        "\n",
        "    z_mean, z_log_var = args\n",
        "    batch = K.shape(z_mean)[0]\n",
        "    dim = K.int_shape(z_mean)[1]\n",
        "    # by default, random_normal has mean=0 and std=1.0\n",
        "    epsilon = K.random_normal(shape=(batch, dim))\n",
        "    return z_mean + K.exp(0.5 * z_log_var) * epsilon"
      ],
      "execution_count": 0,
      "outputs": []
    },
    {
      "metadata": {
        "id": "5SRRJtZ2_n7e",
        "colab_type": "code",
        "colab": {}
      },
      "cell_type": "code",
      "source": [
        "image_size = 28\n",
        "num_labels = 10\n",
        "input_shape = (8, image_size, image_size, 1)\n",
        "label_shape = (num_labels, )\n",
        "batch_size = 128\n",
        "kernel_size = 3\n",
        "filters = 16\n",
        "latent_dim = 2"
      ],
      "execution_count": 0,
      "outputs": []
    },
    {
      "metadata": {
        "id": "wfWgnJhZ_5Ir",
        "colab_type": "code",
        "colab": {}
      },
      "cell_type": "code",
      "source": [
        ""
      ],
      "execution_count": 0,
      "outputs": []
    },
    {
      "metadata": {
        "id": "AtEgW5X2APbV",
        "colab_type": "code",
        "colab": {
          "base_uri": "https://localhost:8080/",
          "height": 736
        },
        "outputId": "d7f8681b-619a-4bf9-e678-f67042970ca5"
      },
      "cell_type": "code",
      "source": [
        "inputs = Input(shape=input_shape, name='encoder_input')\n",
        "x = Conv3D(filters=16, kernel_size=(3,3,3), activation='relu', strides=2, padding='same')(inputs)\n",
        "x = Conv3D(filters=32, kernel_size=(3,3,3), activation='relu', strides=2, padding='same')(x)\n",
        "shape = K.int_shape(x)\n",
        "# print(shape)\n",
        "x = Flatten()(x)\n",
        "x = Dense(16, activation='relu')(x)\n",
        "z_mean = Dense(latent_dim, name='z_mean')(x)\n",
        "z_log_var = Dense(latent_dim, name='z_log_var')(x)\n",
        "\n",
        "# use reparameterization trick to push the sampling out as input\n",
        "# note that \"output_shape\" isn't necessary with the TensorFlow backend\n",
        "z = Lambda(sampling, output_shape=(latent_dim,), name='z')([z_mean, z_log_var])\n",
        "\n",
        "# instantiate encoder model\n",
        "encoder = Model(inputs, [z_mean, z_log_var, z], name='encoder')\n",
        "encoder.summary()\n",
        "\n",
        "latent_inputs = Input(shape=(latent_dim,), name='z_sampling')\n",
        "\n",
        "x = Dense(shape[1]*shape[2]*shape[3]*shape[4], activation='relu')(latent_inputs)\n",
        "x = Reshape((shape[1], shape[2], shape[3], shape[4]))(x)\n",
        "\n",
        "x = Conv3DTranspose(filters=32, kernel_size=(4,4,4), activation='relu', strides=2, padding='same')(x)\n",
        "x = Conv3DTranspose(filters=16, kernel_size=(2,2,2), activation='relu', strides=2, padding='same')(x)\n",
        "\n",
        "outputs = Conv3DTranspose(filters=1, kernel_size=(4,4,4), activation='sigmoid', padding='same', name='decoder_output')(x)\n",
        "\n",
        "# instantiate decoder model\n",
        "decoder = Model(latent_inputs, outputs, name='decoder')\n",
        "decoder.summary()\n",
        "\n"
      ],
      "execution_count": 5,
      "outputs": [
        {
          "output_type": "stream",
          "text": [
            "__________________________________________________________________________________________________\n",
            "Layer (type)                    Output Shape         Param #     Connected to                     \n",
            "==================================================================================================\n",
            "encoder_input (InputLayer)      (None, 8, 28, 28, 1) 0                                            \n",
            "__________________________________________________________________________________________________\n",
            "conv3d_1 (Conv3D)               (None, 4, 14, 14, 16 448         encoder_input[0][0]              \n",
            "__________________________________________________________________________________________________\n",
            "conv3d_2 (Conv3D)               (None, 2, 7, 7, 32)  13856       conv3d_1[0][0]                   \n",
            "__________________________________________________________________________________________________\n",
            "flatten_1 (Flatten)             (None, 3136)         0           conv3d_2[0][0]                   \n",
            "__________________________________________________________________________________________________\n",
            "dense_1 (Dense)                 (None, 16)           50192       flatten_1[0][0]                  \n",
            "__________________________________________________________________________________________________\n",
            "z_mean (Dense)                  (None, 2)            34          dense_1[0][0]                    \n",
            "__________________________________________________________________________________________________\n",
            "z_log_var (Dense)               (None, 2)            34          dense_1[0][0]                    \n",
            "__________________________________________________________________________________________________\n",
            "z (Lambda)                      (None, 2)            0           z_mean[0][0]                     \n",
            "                                                                 z_log_var[0][0]                  \n",
            "==================================================================================================\n",
            "Total params: 64,564\n",
            "Trainable params: 64,564\n",
            "Non-trainable params: 0\n",
            "__________________________________________________________________________________________________\n",
            "_________________________________________________________________\n",
            "Layer (type)                 Output Shape              Param #   \n",
            "=================================================================\n",
            "z_sampling (InputLayer)      (None, 2)                 0         \n",
            "_________________________________________________________________\n",
            "dense_2 (Dense)              (None, 3136)              9408      \n",
            "_________________________________________________________________\n",
            "reshape_1 (Reshape)          (None, 2, 7, 7, 32)       0         \n",
            "_________________________________________________________________\n",
            "conv3d_transpose_1 (Conv3DTr (None, 4, 14, 14, 32)     65568     \n",
            "_________________________________________________________________\n",
            "conv3d_transpose_2 (Conv3DTr (None, 8, 28, 28, 16)     4112      \n",
            "_________________________________________________________________\n",
            "decoder_output (Conv3DTransp (None, 8, 28, 28, 1)      1025      \n",
            "=================================================================\n",
            "Total params: 80,113\n",
            "Trainable params: 80,113\n",
            "Non-trainable params: 0\n",
            "_________________________________________________________________\n"
          ],
          "name": "stdout"
        }
      ]
    },
    {
      "metadata": {
        "id": "HJ2M-f37CgAo",
        "colab_type": "text"
      },
      "cell_type": "markdown",
      "source": [
        ""
      ]
    },
    {
      "metadata": {
        "id": "LVPZVHHHA-p5",
        "colab_type": "code",
        "colab": {}
      },
      "cell_type": "code",
      "source": [
        "outputs = decoder(encoder(inputs)[2])\n",
        "cvae_3d = Model(inputs, outputs, name='cvae')"
      ],
      "execution_count": 0,
      "outputs": []
    },
    {
      "metadata": {
        "id": "NLAv1p6VDtHt",
        "colab_type": "code",
        "colab": {}
      },
      "cell_type": "code",
      "source": [
        "models = (encoder, decoder)"
      ],
      "execution_count": 0,
      "outputs": []
    },
    {
      "metadata": {
        "id": "8dHiTYLAD7rK",
        "colab_type": "code",
        "colab": {}
      },
      "cell_type": "code",
      "source": [
        "reconstruction_loss = binary_crossentropy(K.flatten(inputs),  K.flatten(outputs))"
      ],
      "execution_count": 0,
      "outputs": []
    },
    {
      "metadata": {
        "id": "_XDN8AREEChV",
        "colab_type": "code",
        "colab": {
          "base_uri": "https://localhost:8080/",
          "height": 234
        },
        "outputId": "f67fef9c-b33d-4b4a-bc4b-fa3f8d444066"
      },
      "cell_type": "code",
      "source": [
        "beta = 1.0\n",
        "reconstruction_loss *= 28 * 28\n",
        "kl_loss = 1 + z_log_var - K.square(z_mean) - K.exp(z_log_var)\n",
        "kl_loss = K.sum(kl_loss, axis=-1)\n",
        "kl_loss *= -0.5 * beta\n",
        "cvae_loss = K.mean(reconstruction_loss + kl_loss)\n",
        "cvae_3d.add_loss(cvae_loss)\n",
        "cvae_3d.compile(optimizer='rmsprop')\n",
        "cvae_3d.summary()"
      ],
      "execution_count": 10,
      "outputs": [
        {
          "output_type": "stream",
          "text": [
            "_________________________________________________________________\n",
            "Layer (type)                 Output Shape              Param #   \n",
            "=================================================================\n",
            "encoder_input (InputLayer)   (None, 8, 28, 28, 1)      0         \n",
            "_________________________________________________________________\n",
            "encoder (Model)              [(None, 2), (None, 2), (N 64564     \n",
            "_________________________________________________________________\n",
            "decoder (Model)              (None, 8, 28, 28, 1)      80113     \n",
            "=================================================================\n",
            "Total params: 144,677\n",
            "Trainable params: 144,677\n",
            "Non-trainable params: 0\n",
            "_________________________________________________________________\n"
          ],
          "name": "stdout"
        }
      ]
    },
    {
      "metadata": {
        "id": "sZjhP9KnFOBD",
        "colab_type": "code",
        "colab": {
          "base_uri": "https://localhost:8080/",
          "height": 33
        },
        "outputId": "3bc30cd8-8956-408e-f6da-78b1f4711d51"
      },
      "cell_type": "code",
      "source": [
        "X_train = np.random.rand(1200, 8,28,28)\n",
        "x_test = np.random.rand(10,8, 28,28)\n",
        "X_train = np.expand_dims(X_train, axis=-1)\n",
        "x_test = np.expand_dims(x_test, axis=-1)\n",
        "print(X_train.shape)"
      ],
      "execution_count": 11,
      "outputs": [
        {
          "output_type": "stream",
          "text": [
            "(1200, 8, 28, 28, 1)\n"
          ],
          "name": "stdout"
        }
      ]
    },
    {
      "metadata": {
        "id": "b-uw78rcETZ9",
        "colab_type": "code",
        "colab": {
          "base_uri": "https://localhost:8080/",
          "height": 385
        },
        "outputId": "da34c406-af7c-4032-f7e7-af392cfba975"
      },
      "cell_type": "code",
      "source": [
        "cvae_3d.fit(X_train, epochs=10,\n",
        "                 batch_size=12,\n",
        "                 validation_data=(x_test, None))"
      ],
      "execution_count": 12,
      "outputs": [
        {
          "output_type": "stream",
          "text": [
            "Train on 1200 samples, validate on 10 samples\n",
            "Epoch 1/10\n",
            "1200/1200 [==============================] - 4s 3ms/step - loss: 543.4330 - val_loss: 543.4299\n",
            "Epoch 2/10\n",
            "1200/1200 [==============================] - 2s 1ms/step - loss: 543.4279 - val_loss: 543.4282\n",
            "Epoch 3/10\n",
            "1200/1200 [==============================] - 2s 1ms/step - loss: 543.4270 - val_loss: 543.4294\n",
            "Epoch 4/10\n",
            "1200/1200 [==============================] - 2s 1ms/step - loss: 543.4260 - val_loss: 543.4313\n",
            "Epoch 5/10\n",
            "1200/1200 [==============================] - 2s 1ms/step - loss: 543.4229 - val_loss: 543.4251\n",
            "Epoch 6/10\n",
            "1200/1200 [==============================] - 2s 1ms/step - loss: 543.4195 - val_loss: 543.4274\n",
            "Epoch 7/10\n",
            "1200/1200 [==============================] - 2s 1ms/step - loss: 543.4128 - val_loss: 543.4301\n",
            "Epoch 8/10\n",
            "1200/1200 [==============================] - 2s 1ms/step - loss: 543.4069 - val_loss: 543.4399\n",
            "Epoch 9/10\n",
            "1200/1200 [==============================] - 2s 1ms/step - loss: 543.4027 - val_loss: 543.4351\n",
            "Epoch 10/10\n",
            "1200/1200 [==============================] - 2s 1ms/step - loss: 543.3969 - val_loss: 543.4524\n"
          ],
          "name": "stdout"
        },
        {
          "output_type": "execute_result",
          "data": {
            "text/plain": [
              "<keras.callbacks.History at 0x7f9b85348630>"
            ]
          },
          "metadata": {
            "tags": []
          },
          "execution_count": 12
        }
      ]
    }
  ]
}